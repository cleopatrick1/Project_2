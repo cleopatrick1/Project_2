{
 "cells": [
  {
   "cell_type": "code",
   "execution_count": 36,
   "source": [
    "import requests\n",
    "import json\n",
    "import time\n",
    "import datetime\n",
    "import pandas as pd\n",
    "\n",
    "response = requests.get('https://api.whale-alert.io/v1/transactions?api_key=zd1tXydtCfegKwzLvUIMPCAasDBMiCnk&currency=btc&limit=5').json()\n",
    "\n",
    "whale_data = response[\"transactions\"]\n",
    "\n",
    "whale_df = pd.json_normalize(whale_data)\n",
    "\n",
    "whale_df[\"timestamp\"] = pd.to_datetime(whale_df[\"timestamp\"], unit='s').dt.time\n",
    "\n",
    "whale_df = whale_df[[\"timestamp\", \"amount_usd\", \"from.address\", \"from.owner\"]]\n",
    "\n",
    "whale_df.rename(columns = {\"timestamp\":\"Time\", \"amount_usd\":\"USD\", \"from.address\":\"Address\", \"from.owner\":\"Exchange\"}, inplace=True)\n",
    "\n",
    "print(whale_df)"
   ],
   "outputs": [
    {
     "output_type": "stream",
     "name": "stdout",
     "text": [
      "       Time         USD                                     Address  \\\n",
      "0  08:51:09  1844578.60                          Multiple Addresses   \n",
      "1  08:51:09   562466.00          3CX6VtidJJpKZjyHcWAioKsXEbY9dxvikT   \n",
      "2  08:51:09   740764.90                          Multiple Addresses   \n",
      "3  08:51:09   745761.60          1NDyJtNTjmwk5xPNhjgAMu4HDHigtobu1s   \n",
      "4  08:51:09   867955.75  bc1que6g7349wnxsh9h945ftzktd2x3h6740qqd56u   \n",
      "\n",
      "           Exchange  \n",
      "0  unknown owner 24  \n",
      "1               NaN  \n",
      "2           binance  \n",
      "3           binance  \n",
      "4               NaN  \n"
     ]
    }
   ],
   "metadata": {}
  }
 ],
 "metadata": {
  "orig_nbformat": 4,
  "language_info": {
   "name": "python",
   "version": "3.7.0",
   "mimetype": "text/x-python",
   "codemirror_mode": {
    "name": "ipython",
    "version": 3
   },
   "pygments_lexer": "ipython3",
   "nbconvert_exporter": "python",
   "file_extension": ".py"
  },
  "kernelspec": {
   "name": "python3",
   "display_name": "Python 3.7.0 64-bit ('project': conda)"
  },
  "interpreter": {
   "hash": "82a38f9354dba261550f1be1836093dfecccb124d8e1eb2bc461b4a056da6e00"
  }
 },
 "nbformat": 4,
 "nbformat_minor": 2
}