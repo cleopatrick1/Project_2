{
 "cells": [
  {
   "cell_type": "code",
   "execution_count": 1,
   "id": "19212322-ce06-4569-b768-e9c4023a7dd5",
   "metadata": {},
   "outputs": [],
   "source": [
    "def ichimoku_signals():\n",
    "    # Tenkan-sen (Conversion Line): (20-period high + 20-period low)/2))\n",
    "    twenty_period_high = crypto_df['High'].rolling(window= 20).max()\n",
    "    twenty_period_low = crypto_df['Low'].rolling(window= 20).min()\n",
    "    crypto_df['tenkan_sen'] = (nine_period_high + nine_period_low) /2\n",
    "    \n",
    "    # Kijun-sen (Base Line): (30-period high + 30-period low)/2))\n",
    "    period30_high = crypto_df['High'].rolling(window=30).max()\n",
    "    period30_low = crypto_df['Low'].rolling(window=30).min()\n",
    "    crypto_df['kijun_sen'] = (period30_high + period30_low) / 2\n",
    "    \n",
    "    # Senkou Span A (Leading Span A): (Conversion Line + Base Line)/2))\n",
    "    crypto_df['senkou_span_a'] = ((crypto_df['tenkan_sen'] + crypto_df['kijun_sen']) / 2).shift(26)\n",
    "    \n",
    "    # Senkou Span B (Leading Span B): (120-period high + 120-period low)/2))\n",
    "    period120_high = crypto_df['High'].rolling(window=120).max()\n",
    "    period120_low = crypto_df['Low'].rolling(window=120).min()\n",
    "    crypto_df['senkou_span_b'] = ((period120_high + period120_low) / 2).shift(26)\n",
    "    \n",
    "    # The most current closing price plotted 26 time periods behind (optional)\n",
    "    crypto_df['chikou_span'] = crypto_df['Close'].shift(-26)\n",
    "    return crypto_df"
   ]
  },
  {
   "cell_type": "code",
   "execution_count": null,
   "id": "e1cf05b9-1f8c-4e44-bea8-4b820bc3f2ac",
   "metadata": {},
   "outputs": [],
   "source": [
    "    crypto_df.dropna(inplace=True)\n",
    "    crypto_df['above_cloud'] = 0\n",
    "    crypto_df['above_cloud'] = np.where((d['Low'] > d['senkou_span_a'])  & (d['Low'] > d['senkou_span_b'] ), 1, d['above_cloud'])\n",
    "    crypto_df['above_cloud'] = np.where((d['High'] < d['senkou_span_a']) & (d['High'] < d['senkou_span_b']), -1, d['above_cloud'])\n",
    "    crypto_df['A_above_B'] = np.where((d['senkou_span_a'] > d['senkou_span_b']), 1, -1)\n",
    "    crypto_df['tenkan_kiju_cross'] = np.NaN\n",
    "    crypto_df['tenkan_kiju_cross'] = np.where((d['tenkan_sen'].shift(1) <= d['kijun_sen'].shift(1)) & (d['tenkan_sen'] > d['kijun_sen']), 1, d['tenkan_kiju_cross'])\n",
    "    crypto_df['tenkan_kiju_cross'] = np.where((d['tenkan_sen'].shift(1) >= d['kijun_sen'].shift(1)) & (d['tenkan_sen'] < d['kijun_sen']), -1, d['tenkan_kiju_cross'])\n",
    "    crypto_df['price_tenkan_cross'] = np.NaN\n",
    "    crypto_df['price_tenkan_cross'] = np.where((d['Open'].shift(1) <= d['tenkan_sen'].shift(1)) & (d['Open'] > d['tenkan_sen']), 1, d['price_tenkan_cross'])\n",
    "    crypto_df['price_tenkan_cross'] = np.where((d['Open'].shift(1) >= d['tenkan_sen'].shift(1)) & (d['Open'] < d['tenkan_sen']), -1, d['price_tenkan_cross'])\n",
    "    crypto_df['buy'] = np.NaN\n",
    "    crypto_df['buy'] = np.where((d['above_cloud'].shift(1) == 1) & (d['A_above_B'].shift(1) == 1) & ((d['tenkan_kiju_cross'].shift(1) == 1) | (d['price_tenkan_cross'].shift(1) == 1)), 1, d['buy'])\n",
    "    crypto_df['buy'] = np.where(d['tenkan_kiju_cross'].shift(1) == -1, 0, d['buy'])\n",
    "    crypto_df['buy'].ffill(inplace=True)\n",
    "    crypto_df['sell'] = np.NaN\n",
    "    crypto_df['sell'] = np.where((d['above_cloud'].shift(1) == -1) & (d['A_above_B'].shift(1) == -1) & ((d['tenkan_kiju_cross'].shift(1) == -1) | (d['price_tenkan_cross'].shift(1) == -1)), -1, d['sell'])\n",
    "    crypto_df['sell'] = np.where(d['tenkan_kiju_cross'].shift(1) == 1, 0, d['sell'])\n",
    "    crypto_df['sell'].ffill(inplace=True)\n",
    "    crypto_df['position'] = d['buy'] + d['sell']\n",
    "    crypto_df['returns'] = np.log(d['Open']) - np.log(d['Open'].shift(1))\n",
    "    crypto_df['strategy_returns'] = d['returns'] * d['position']\n",
    "    crypto_df[['returns','strategy_returns']].cumsum().plot(figsize=(15,8))\n",
    "    \n",
    "    \n",
    "    crypto_df.dropna(inplace=True)\n",
    "crypto_df['above_cloud'] = 0\n",
    "crypto_df['above_cloud'] = np.where((crypto_df['Low'] > crypto_df['senkou_span_a'])  & (crypto_df['Low'] > crypto_df['senkou_span_b'] ), 1, crypto_df['above_cloud'])\n",
    "crypto_df['above_cloud'] = np.where((crypto_df['High'] < crypto_df['senkou_span_a']) & (crypto_df['High'] < crypto_df['senkou_span_b']), -1, crypto_df['above_cloud'])\n",
    "crypto_df['A_above_B'] = np.where((crypto_df['senkou_span_a'] > crypto_df['senkou_span_b']), 1, -1)\n",
    "\n",
    "\n",
    "crypto_df['tenkan_kiju_cross'] = np.NaN\n",
    "crypto_df['tenkan_kiju_cross'] = np.where((crypto_df['tenkan_sen'].shift(1) <= crypto_df['kijun_sen'].shift(1)) & (crypto_df['tenkan_sen'] > crypto_df['kijun_sen']), 1, crypto_df['tenkan_kiju_cross'])\n",
    "crypto_df['tenkan_kiju_cross'] = np.where((crypto_df['tenkan_sen'].shift(1) >= crypto_df['kijun_sen'].shift(1)) & (crypto_df['tenkan_sen'] < crypto_df['kijun_sen']), -1, crypto_df['tenkan_kiju_cross'])\n",
    "crypto_df['price_tenkan_cross'] = np.NaN\n",
    "crypto_df['price_tenkan_cross'] = np.where((crypto_df['Open'].shift(1) <= crypto_df['tenkan_sen'].shift(1)) & (crypto_df['Open'] > crypto_df['tenkan_sen']), 1, crypto_df['price_tenkan_cross'])\n",
    "crypto_df['price_tenkan_cross'] = np.where((crypto_df['Open'].shift(1) >= crypto_df['tenkan_sen'].shift(1)) & (crypto_df['Open'] < crypto_df['tenkan_sen']), -1, crypto_df['price_tenkan_cross'])\n",
    "crypto_df.tail()"
   ]
  }
 ],
 "metadata": {
  "kernelspec": {
   "display_name": "Python 3",
   "language": "python",
   "name": "python3"
  },
  "language_info": {
   "codemirror_mode": {
    "name": "ipython",
    "version": 3
   },
   "file_extension": ".py",
   "mimetype": "text/x-python",
   "name": "python",
   "nbconvert_exporter": "python",
   "pygments_lexer": "ipython3",
   "version": "3.7.10"
  }
 },
 "nbformat": 4,
 "nbformat_minor": 5
}
